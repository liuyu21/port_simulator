{
 "cells": [
  {
   "cell_type": "code",
   "execution_count": null,
   "id": "cb6158ff",
   "metadata": {},
   "outputs": [],
   "source": [
    "%matplotlib inline"
   ]
  },
  {
   "cell_type": "code",
   "execution_count": null,
   "id": "368ce869",
   "metadata": {},
   "outputs": [],
   "source": [
    "import random\n",
    "import numpy as np\n",
    "from collections import deque\n",
    "from message_scheduler import Scheduler"
   ]
  },
  {
   "cell_type": "code",
   "execution_count": null,
   "id": "29857993",
   "metadata": {},
   "outputs": [],
   "source": [
    "scheduler = Scheduler(queue_num=600, total_band_width=10000, min_band_width=10,\n",
    "                      receive_time=4, prob_loc=0.9, prob_scale=0.1)"
   ]
  },
  {
   "cell_type": "code",
   "execution_count": null,
   "id": "67da7042",
   "metadata": {},
   "outputs": [],
   "source": [
    "scheduler.show_probs()"
   ]
  },
  {
   "cell_type": "code",
   "execution_count": null,
   "id": "20db2e9e",
   "metadata": {},
   "outputs": [],
   "source": [
    "step = 1000\n",
    "for i in range(1000):\n",
    "    scheduler.step()"
   ]
  },
  {
   "cell_type": "code",
   "execution_count": null,
   "id": "78a0161f",
   "metadata": {},
   "outputs": [],
   "source": [
    "scheduler.show_port_usage()"
   ]
  },
  {
   "cell_type": "code",
   "execution_count": null,
   "id": "c1748cc1",
   "metadata": {},
   "outputs": [],
   "source": [
    "scheduler.show_port_remain()"
   ]
  },
  {
   "cell_type": "code",
   "execution_count": null,
   "id": "5350225d",
   "metadata": {},
   "outputs": [],
   "source": [
    "scheduler.show_queue_usage()"
   ]
  },
  {
   "cell_type": "code",
   "execution_count": null,
   "id": "890ae288",
   "metadata": {},
   "outputs": [],
   "source": []
  },
  {
   "cell_type": "code",
   "execution_count": null,
   "id": "ed838ff8",
   "metadata": {},
   "outputs": [],
   "source": []
  },
  {
   "cell_type": "code",
   "execution_count": null,
   "id": "acf96d08",
   "metadata": {},
   "outputs": [],
   "source": []
  },
  {
   "cell_type": "code",
   "execution_count": null,
   "id": "fbc3482f",
   "metadata": {},
   "outputs": [],
   "source": []
  },
  {
   "cell_type": "code",
   "execution_count": null,
   "id": "33c4db3f",
   "metadata": {},
   "outputs": [],
   "source": []
  }
 ],
 "metadata": {
  "interpreter": {
   "hash": "e774977668b7c0ae8309835a5187aa7fbf7669e7d0bb59755bc63e573643edcd"
  },
  "kernelspec": {
   "display_name": "Python 3 (ipykernel)",
   "language": "python",
   "name": "python3"
  },
  "language_info": {
   "codemirror_mode": {
    "name": "ipython",
    "version": 3
   },
   "file_extension": ".py",
   "mimetype": "text/x-python",
   "name": "python",
   "nbconvert_exporter": "python",
   "pygments_lexer": "ipython3",
   "version": "3.7.11"
  }
 },
 "nbformat": 4,
 "nbformat_minor": 5
}
